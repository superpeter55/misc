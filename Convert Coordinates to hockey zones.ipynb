{
 "cells": [
  {
   "cell_type": "code",
   "execution_count": 1,
   "id": "6df49189",
   "metadata": {},
   "outputs": [],
   "source": [
    "# import modules\n",
    "import pandas as pd\n",
    "import matplotlib.pyplot as plt"
   ]
  },
  {
   "cell_type": "code",
   "execution_count": 49,
   "id": "92c85c82",
   "metadata": {},
   "outputs": [],
   "source": [
    "shots = pd.read_csv('shots_2020.csv')"
   ]
  },
  {
   "cell_type": "code",
   "execution_count": 50,
   "id": "0716e6da",
   "metadata": {},
   "outputs": [
    {
     "data": {
      "text/html": [
       "<div>\n",
       "<style scoped>\n",
       "    .dataframe tbody tr th:only-of-type {\n",
       "        vertical-align: middle;\n",
       "    }\n",
       "\n",
       "    .dataframe tbody tr th {\n",
       "        vertical-align: top;\n",
       "    }\n",
       "\n",
       "    .dataframe thead th {\n",
       "        text-align: right;\n",
       "    }\n",
       "</style>\n",
       "<table border=\"1\" class=\"dataframe\">\n",
       "  <thead>\n",
       "    <tr style=\"text-align: right;\">\n",
       "      <th></th>\n",
       "      <th>shotID</th>\n",
       "      <th>arenaAdjustedShotDistance</th>\n",
       "      <th>arenaAdjustedXCord</th>\n",
       "      <th>arenaAdjustedXCordABS</th>\n",
       "      <th>arenaAdjustedYCord</th>\n",
       "      <th>arenaAdjustedYCordAbs</th>\n",
       "      <th>averageRestDifference</th>\n",
       "      <th>awayEmptyNet</th>\n",
       "      <th>awayPenalty1Length</th>\n",
       "      <th>awayPenalty1TimeLeft</th>\n",
       "      <th>...</th>\n",
       "      <th>xCordAdjusted</th>\n",
       "      <th>xFroze</th>\n",
       "      <th>xGoal</th>\n",
       "      <th>xPlayContinuedInZone</th>\n",
       "      <th>xPlayContinuedOutsideZone</th>\n",
       "      <th>xPlayStopped</th>\n",
       "      <th>xRebound</th>\n",
       "      <th>xShotWasOnGoal</th>\n",
       "      <th>yCord</th>\n",
       "      <th>yCordAdjusted</th>\n",
       "    </tr>\n",
       "  </thead>\n",
       "  <tbody>\n",
       "    <tr>\n",
       "      <th>0</th>\n",
       "      <td>0</td>\n",
       "      <td>31.0</td>\n",
       "      <td>-75.0</td>\n",
       "      <td>75.0</td>\n",
       "      <td>28.0</td>\n",
       "      <td>28.0</td>\n",
       "      <td>0.0</td>\n",
       "      <td>0</td>\n",
       "      <td>0</td>\n",
       "      <td>0</td>\n",
       "      <td>...</td>\n",
       "      <td>74</td>\n",
       "      <td>0.157823</td>\n",
       "      <td>0.014253</td>\n",
       "      <td>0.459888</td>\n",
       "      <td>0.310161</td>\n",
       "      <td>0.018604</td>\n",
       "      <td>0.039270</td>\n",
       "      <td>0.727368</td>\n",
       "      <td>29</td>\n",
       "      <td>-29</td>\n",
       "    </tr>\n",
       "    <tr>\n",
       "      <th>1</th>\n",
       "      <td>1</td>\n",
       "      <td>45.0</td>\n",
       "      <td>51.0</td>\n",
       "      <td>51.0</td>\n",
       "      <td>-24.0</td>\n",
       "      <td>24.0</td>\n",
       "      <td>0.0</td>\n",
       "      <td>0</td>\n",
       "      <td>0</td>\n",
       "      <td>0</td>\n",
       "      <td>...</td>\n",
       "      <td>49</td>\n",
       "      <td>0.229722</td>\n",
       "      <td>0.022733</td>\n",
       "      <td>0.356649</td>\n",
       "      <td>0.331831</td>\n",
       "      <td>0.025545</td>\n",
       "      <td>0.033520</td>\n",
       "      <td>0.755237</td>\n",
       "      <td>-25</td>\n",
       "      <td>-25</td>\n",
       "    </tr>\n",
       "    <tr>\n",
       "      <th>2</th>\n",
       "      <td>2</td>\n",
       "      <td>47.0</td>\n",
       "      <td>-53.0</td>\n",
       "      <td>53.0</td>\n",
       "      <td>-30.0</td>\n",
       "      <td>30.0</td>\n",
       "      <td>-3.4</td>\n",
       "      <td>0</td>\n",
       "      <td>0</td>\n",
       "      <td>0</td>\n",
       "      <td>...</td>\n",
       "      <td>52</td>\n",
       "      <td>0.342825</td>\n",
       "      <td>0.018034</td>\n",
       "      <td>0.333151</td>\n",
       "      <td>0.254598</td>\n",
       "      <td>0.021434</td>\n",
       "      <td>0.029958</td>\n",
       "      <td>0.762454</td>\n",
       "      <td>-31</td>\n",
       "      <td>31</td>\n",
       "    </tr>\n",
       "    <tr>\n",
       "      <th>3</th>\n",
       "      <td>3</td>\n",
       "      <td>58.0</td>\n",
       "      <td>45.0</td>\n",
       "      <td>45.0</td>\n",
       "      <td>38.0</td>\n",
       "      <td>38.0</td>\n",
       "      <td>-2.4</td>\n",
       "      <td>0</td>\n",
       "      <td>0</td>\n",
       "      <td>0</td>\n",
       "      <td>...</td>\n",
       "      <td>43</td>\n",
       "      <td>0.209750</td>\n",
       "      <td>0.011926</td>\n",
       "      <td>0.391011</td>\n",
       "      <td>0.335451</td>\n",
       "      <td>0.024268</td>\n",
       "      <td>0.027594</td>\n",
       "      <td>0.726759</td>\n",
       "      <td>39</td>\n",
       "      <td>39</td>\n",
       "    </tr>\n",
       "    <tr>\n",
       "      <th>4</th>\n",
       "      <td>4</td>\n",
       "      <td>52.0</td>\n",
       "      <td>-48.0</td>\n",
       "      <td>48.0</td>\n",
       "      <td>32.0</td>\n",
       "      <td>32.0</td>\n",
       "      <td>0.0</td>\n",
       "      <td>0</td>\n",
       "      <td>0</td>\n",
       "      <td>0</td>\n",
       "      <td>...</td>\n",
       "      <td>46</td>\n",
       "      <td>0.175148</td>\n",
       "      <td>0.011392</td>\n",
       "      <td>0.407906</td>\n",
       "      <td>0.346867</td>\n",
       "      <td>0.024859</td>\n",
       "      <td>0.033828</td>\n",
       "      <td>0.698102</td>\n",
       "      <td>33</td>\n",
       "      <td>-33</td>\n",
       "    </tr>\n",
       "  </tbody>\n",
       "</table>\n",
       "<p>5 rows × 137 columns</p>\n",
       "</div>"
      ],
      "text/plain": [
       "   shotID  arenaAdjustedShotDistance  arenaAdjustedXCord  \\\n",
       "0       0                       31.0               -75.0   \n",
       "1       1                       45.0                51.0   \n",
       "2       2                       47.0               -53.0   \n",
       "3       3                       58.0                45.0   \n",
       "4       4                       52.0               -48.0   \n",
       "\n",
       "   arenaAdjustedXCordABS  arenaAdjustedYCord  arenaAdjustedYCordAbs  \\\n",
       "0                   75.0                28.0                   28.0   \n",
       "1                   51.0               -24.0                   24.0   \n",
       "2                   53.0               -30.0                   30.0   \n",
       "3                   45.0                38.0                   38.0   \n",
       "4                   48.0                32.0                   32.0   \n",
       "\n",
       "   averageRestDifference  awayEmptyNet  awayPenalty1Length  \\\n",
       "0                    0.0             0                   0   \n",
       "1                    0.0             0                   0   \n",
       "2                   -3.4             0                   0   \n",
       "3                   -2.4             0                   0   \n",
       "4                    0.0             0                   0   \n",
       "\n",
       "   awayPenalty1TimeLeft  ...  xCordAdjusted    xFroze     xGoal  \\\n",
       "0                     0  ...             74  0.157823  0.014253   \n",
       "1                     0  ...             49  0.229722  0.022733   \n",
       "2                     0  ...             52  0.342825  0.018034   \n",
       "3                     0  ...             43  0.209750  0.011926   \n",
       "4                     0  ...             46  0.175148  0.011392   \n",
       "\n",
       "   xPlayContinuedInZone  xPlayContinuedOutsideZone  xPlayStopped  xRebound  \\\n",
       "0              0.459888                   0.310161      0.018604  0.039270   \n",
       "1              0.356649                   0.331831      0.025545  0.033520   \n",
       "2              0.333151                   0.254598      0.021434  0.029958   \n",
       "3              0.391011                   0.335451      0.024268  0.027594   \n",
       "4              0.407906                   0.346867      0.024859  0.033828   \n",
       "\n",
       "   xShotWasOnGoal  yCord  yCordAdjusted  \n",
       "0        0.727368     29            -29  \n",
       "1        0.755237    -25            -25  \n",
       "2        0.762454    -31             31  \n",
       "3        0.726759     39             39  \n",
       "4        0.698102     33            -33  \n",
       "\n",
       "[5 rows x 137 columns]"
      ]
     },
     "execution_count": 50,
     "metadata": {},
     "output_type": "execute_result"
    }
   ],
   "source": [
    "shots.head()"
   ]
  },
  {
   "cell_type": "code",
   "execution_count": 51,
   "id": "16937204",
   "metadata": {},
   "outputs": [
    {
     "data": {
      "text/plain": [
       "<AxesSubplot:xlabel='yCordAdjusted', ylabel='xCordAdjusted'>"
      ]
     },
     "execution_count": 51,
     "metadata": {},
     "output_type": "execute_result"
    },
    {
     "data": {
      "image/png": "[encoded data removed]",
      "text/plain": [
       "<Figure size 432x288 with 1 Axes>"
      ]
     },
     "metadata": {
      "needs_background": "light"
     },
     "output_type": "display_data"
    }
   ],
   "source": [
    "shots.plot.scatter(x = 'yCordAdjusted', y = 'xCordAdjusted')"
   ]
  },
  {
   "cell_type": "code",
   "execution_count": 52,
   "id": "d331399e",
   "metadata": {},
   "outputs": [
    {
     "data": {
      "text/plain": [
       "Index(['shotID', 'arenaAdjustedShotDistance', 'arenaAdjustedXCord',\n",
       "       'arenaAdjustedXCordABS', 'arenaAdjustedYCord', 'arenaAdjustedYCordAbs',\n",
       "       'averageRestDifference', 'awayEmptyNet', 'awayPenalty1Length',\n",
       "       'awayPenalty1TimeLeft',\n",
       "       ...\n",
       "       'xCordAdjusted', 'xFroze', 'xGoal', 'xPlayContinuedInZone',\n",
       "       'xPlayContinuedOutsideZone', 'xPlayStopped', 'xRebound',\n",
       "       'xShotWasOnGoal', 'yCord', 'yCordAdjusted'],\n",
       "      dtype='object', length=137)"
      ]
     },
     "execution_count": 52,
     "metadata": {},
     "output_type": "execute_result"
    }
   ],
   "source": [
    "shots.columns"
   ]
  },
  {
   "cell_type": "code",
   "execution_count": 53,
   "id": "4e43e0a7",
   "metadata": {},
   "outputs": [
    {
     "data": {
      "text/plain": [
       "-42"
      ]
     },
     "execution_count": 53,
     "metadata": {},
     "output_type": "execute_result"
    }
   ],
   "source": [
    "min(shots['yCordAdjusted'])"
   ]
  },
  {
   "cell_type": "markdown",
   "id": "01a380a0",
   "metadata": {},
   "source": [
    "# Converting SVG Coordinates to Rink Coordinates"
   ]
  },
  {
   "cell_type": "code",
   "execution_count": 54,
   "id": "d6a07075",
   "metadata": {},
   "outputs": [],
   "source": [
    "def svg_to_rink_X(x):\n",
    "    \"\"\"Converts svg x coordinate to rink x coordinate\"\"\"\n",
    "    return (x-74)*(84/252) - 42\n",
    "\n",
    "def svg_to_rink_Y(y):\n",
    "    \"\"\"Converts svg y coordinate to rink y coordinate\"\"\"\n",
    "    return (y-249)*(-64/189) + 25"
   ]
  },
  {
   "cell_type": "markdown",
   "id": "1bed7551",
   "metadata": {},
   "source": [
    "### Convert X-SVG Coordinates to Rink Coordinates"
   ]
  },
  {
   "cell_type": "code",
   "execution_count": 55,
   "id": "a257077e",
   "metadata": {},
   "outputs": [
    {
     "name": "stdout",
     "output_type": "stream",
     "text": [
      "-5.333333333333336\n",
      "5.333333333333329\n"
     ]
    }
   ],
   "source": [
    "print(svg_to_rink_X(184))\n",
    "print(svg_to_rink_X(216))"
   ]
  },
  {
   "cell_type": "code",
   "execution_count": 56,
   "id": "84cb83eb",
   "metadata": {},
   "outputs": [
    {
     "name": "stdout",
     "output_type": "stream",
     "text": [
      "-7.666666666666671\n",
      "7.666666666666664\n"
     ]
    }
   ],
   "source": [
    "print(svg_to_rink_X(177))\n",
    "print(svg_to_rink_X(223))"
   ]
  },
  {
   "cell_type": "code",
   "execution_count": 57,
   "id": "6429bb3f",
   "metadata": {},
   "outputs": [
    {
     "name": "stdout",
     "output_type": "stream",
     "text": [
      "-11.0\n",
      "11.0\n"
     ]
    }
   ],
   "source": [
    "print(svg_to_rink_X(167))\n",
    "print(svg_to_rink_X(233))"
   ]
  },
  {
   "cell_type": "code",
   "execution_count": 58,
   "id": "47a07baa",
   "metadata": {},
   "outputs": [
    {
     "name": "stdout",
     "output_type": "stream",
     "text": [
      "-14.333333333333336\n",
      "14.333333333333329\n"
     ]
    }
   ],
   "source": [
    "print(svg_to_rink_X(157))\n",
    "print(svg_to_rink_X(243))"
   ]
  },
  {
   "cell_type": "markdown",
   "id": "74bdfecf",
   "metadata": {},
   "source": [
    "### Convert Y-SVG Coordinates to Rink Coordinates"
   ]
  },
  {
   "cell_type": "code",
   "execution_count": 59,
   "id": "47acf1c0",
   "metadata": {},
   "outputs": [
    {
     "name": "stdout",
     "output_type": "stream",
     "text": [
      "85.6137566137566\n"
     ]
    }
   ],
   "source": [
    "print(svg_to_rink_Y(70))"
   ]
  },
  {
   "cell_type": "code",
   "execution_count": 60,
   "id": "c62d7d35",
   "metadata": {},
   "outputs": [
    {
     "name": "stdout",
     "output_type": "stream",
     "text": [
      "68.68253968253968\n"
     ]
    }
   ],
   "source": [
    "print(svg_to_rink_Y(120))"
   ]
  },
  {
   "cell_type": "code",
   "execution_count": 61,
   "id": "e4a2f06b",
   "metadata": {},
   "outputs": [
    {
     "name": "stdout",
     "output_type": "stream",
     "text": [
      "53.44444444444444\n"
     ]
    }
   ],
   "source": [
    "print(svg_to_rink_Y(165))"
   ]
  },
  {
   "cell_type": "code",
   "execution_count": 62,
   "id": "13733391",
   "metadata": {},
   "outputs": [
    {
     "name": "stdout",
     "output_type": "stream",
     "text": [
      "48.36507936507937\n"
     ]
    }
   ],
   "source": [
    "print(svg_to_rink_Y(180))"
   ]
  },
  {
   "cell_type": "markdown",
   "id": "4ce4794d",
   "metadata": {},
   "source": [
    "# Filtering Data to Be within zone of interest"
   ]
  },
  {
   "cell_type": "code",
   "execution_count": 63,
   "id": "f5e66b3d",
   "metadata": {},
   "outputs": [],
   "source": [
    "shots = shots[shots['xCordAdjusted'] <= 89]\n",
    "shots = shots[shots['xCordAdjusted'] >= 25]"
   ]
  },
  {
   "cell_type": "code",
   "execution_count": 64,
   "id": "c31f67e4",
   "metadata": {},
   "outputs": [
    {
     "data": {
      "text/plain": [
       "<AxesSubplot:xlabel='yCordAdjusted', ylabel='xCordAdjusted'>"
      ]
     },
     "execution_count": 64,
     "metadata": {},
     "output_type": "execute_result"
    },
    {
     "data": {
      "image/png": "[encoded data removed]",
      "text/plain": [
       "<Figure size 432x288 with 1 Axes>"
      ]
     },
     "metadata": {
      "needs_background": "light"
     },
     "output_type": "display_data"
    }
   ],
   "source": [
    "shots.plot.scatter(x = 'yCordAdjusted', y = 'xCordAdjusted')"
   ]
  },
  {
   "cell_type": "markdown",
   "id": "e77aa5bd",
   "metadata": {},
   "source": [
    "# Find Rink Column"
   ]
  },
  {
   "cell_type": "code",
   "execution_count": 77,
   "id": "8beaa012",
   "metadata": {},
   "outputs": [],
   "source": [
    "def partition_1_find_x(y):\n",
    "    \"\"\"Finds x coordinate on first vertical partition line\n",
    "    given y-coordinate\"\"\"\n",
    "    return (9/64)*(y-89) - 5.3333\n",
    "\n",
    "def partition_2_find_x(y):\n",
    "    \"\"\"Finds x coordinate on second vertical partition line\n",
    "    given y-coordinate\"\"\"\n",
    "    return (-9/64)*(y-89) + 5.3333"
   ]
  },
  {
   "cell_type": "code",
   "execution_count": 84,
   "id": "82b4305a",
   "metadata": {},
   "outputs": [
    {
     "data": {
      "text/plain": [
       "-14.333300000000001"
      ]
     },
     "execution_count": 84,
     "metadata": {},
     "output_type": "execute_result"
    }
   ],
   "source": [
    "#test\n",
    "partition_1_find_x(25)"
   ]
  },
  {
   "cell_type": "code",
   "execution_count": 82,
   "id": "44956261",
   "metadata": {},
   "outputs": [
    {
     "data": {
      "text/plain": [
       "14.333300000000001"
      ]
     },
     "execution_count": 82,
     "metadata": {},
     "output_type": "execute_result"
    }
   ],
   "source": [
    "#test\n",
    "partition_2_find_x(25)"
   ]
  },
  {
   "cell_type": "code",
   "execution_count": 86,
   "id": "91bf7dab",
   "metadata": {},
   "outputs": [],
   "source": [
    "column_number = []\n",
    "\n",
    "# looping thru each data point appending correct column\n",
    "for index,row in shots.iterrows():\n",
    "    x = row['yCordAdjusted']\n",
    "    y = row['xCordAdjusted']\n",
    "    \n",
    "    if partition_1_find_x(y) >= x:\n",
    "        column_number.append(0)\n",
    "    elif partition_2_find_x(y) <= x:\n",
    "        column_number.append(2)\n",
    "    else:\n",
    "        column_number.append(1)"
   ]
  },
  {
   "cell_type": "code",
   "execution_count": 88,
   "id": "b06cb574",
   "metadata": {},
   "outputs": [],
   "source": [
    "shots['column_index'] = column_number"
   ]
  },
  {
   "cell_type": "code",
   "execution_count": 93,
   "id": "57e47d41",
   "metadata": {
    "scrolled": true
   },
   "outputs": [
    {
     "data": {
      "text/plain": [
       "<matplotlib.collections.PathCollection at 0x1ed1b7af220>"
      ]
     },
     "execution_count": 93,
     "metadata": {},
     "output_type": "execute_result"
    },
    {
     "data": {
      "image/png": "[encoded data removed]",
      "text/plain": [
       "<Figure size 432x288 with 1 Axes>"
      ]
     },
     "metadata": {
      "needs_background": "light"
     },
     "output_type": "display_data"
    }
   ],
   "source": [
    "plt.scatter(shots['yCordAdjusted'], shots['xCordAdjusted'], c = shots['column_index'])"
   ]
  },
  {
   "cell_type": "markdown",
   "id": "cba2446b",
   "metadata": {},
   "source": [
    "# Find Rink Rows"
   ]
  },
  {
   "cell_type": "code",
   "execution_count": 94,
   "id": "160639d9",
   "metadata": {},
   "outputs": [],
   "source": [
    "def partition_1_find_y(x):\n",
    "    \"\"\"Finds x coordinate on first vertical partition line\n",
    "    given y-coordinate\"\"\"\n",
    "    x = abs(x)\n",
    "    return 0.489*(x-42) + 85.6\n",
    "\n",
    "def partition_2_find_y(x):\n",
    "    \"\"\"Finds x coordinate on second vertical partition line\n",
    "    given y-coordinate\"\"\"\n",
    "    x = abs(x)\n",
    "    return 0.161*(x-42) + 53.4"
   ]
  },
  {
   "cell_type": "code",
   "execution_count": 95,
   "id": "8bc6df5a",
   "metadata": {},
   "outputs": [],
   "source": [
    "row_number = []\n",
    "\n",
    "# looping thru each data point appending correct row\n",
    "for index,row in shots.iterrows():\n",
    "    x = row['yCordAdjusted']\n",
    "    y = row['xCordAdjusted']\n",
    "    col = row['column_index']\n",
    "    \n",
    "    if col == 1:\n",
    "        if y >= 68.9:\n",
    "            row_number.append(0)\n",
    "            continue\n",
    "        elif y >= 48.4:\n",
    "            row_number.append(1)\n",
    "            continue\n",
    "        else:\n",
    "            row_number.append(2)\n",
    "            continue\n",
    "            \n",
    "    if y >= partition_1_find_y(x):\n",
    "        row_number.append(0)\n",
    "    elif y >= partition_2_find_y(x):\n",
    "        row_number.append(1)\n",
    "    else:\n",
    "        row_number.append(2)"
   ]
  },
  {
   "cell_type": "code",
   "execution_count": 96,
   "id": "2eec8c6b",
   "metadata": {},
   "outputs": [],
   "source": [
    "shots['row_index'] = row_number"
   ]
  },
  {
   "cell_type": "code",
   "execution_count": 97,
   "id": "23513d2e",
   "metadata": {},
   "outputs": [
    {
     "data": {
      "text/plain": [
       "<matplotlib.collections.PathCollection at 0x1ed52e432b0>"
      ]
     },
     "execution_count": 97,
     "metadata": {},
     "output_type": "execute_result"
    },
    {
     "data": {
      "image/png": "[encoded data removed]",
      "text/plain": [
       "<Figure size 432x288 with 1 Axes>"
      ]
     },
     "metadata": {
      "needs_background": "light"
     },
     "output_type": "display_data"
    }
   ],
   "source": [
    "plt.scatter(shots['yCordAdjusted'], shots['xCordAdjusted'], c = shots['row_index'])"
   ]
  },
  {
   "cell_type": "markdown",
   "id": "40a2a36e",
   "metadata": {},
   "source": [
    "# Mapping Row and Column index to Zone Numbers"
   ]
  },
  {
   "cell_type": "code",
   "execution_count": 99,
   "id": "92794727",
   "metadata": {},
   "outputs": [],
   "source": [
    "zones = []\n",
    "\n",
    "# Looping thru each row and appending zone number\n",
    "for index,row in shots.iterrows():\n",
    "    r = row['row_index']\n",
    "    c = row['column_index']\n",
    "    \n",
    "    if (r,c) == (0,0):\n",
    "        zones.append(1)\n",
    "    elif (r,c) == (0,1):\n",
    "        zones.append(2)\n",
    "    elif (r,c) == (0,1):\n",
    "        zones.append(2)\n",
    "    elif (r,c) == (0,2):\n",
    "        zones.append(3)\n",
    "    elif (r,c) == (1,0):\n",
    "        zones.append(4)\n",
    "    elif (r,c) == (1,1):\n",
    "        zones.append(5)\n",
    "    elif (r,c) == (1,2):\n",
    "        zones.append(6)\n",
    "    elif (r,c) == (2,0):\n",
    "        zones.append(7)\n",
    "    elif (r,c) == (2,1):\n",
    "        zones.append(8)\n",
    "    else:\n",
    "        zones.append(9)"
   ]
  },
  {
   "cell_type": "code",
   "execution_count": 101,
   "id": "4db4ce89",
   "metadata": {},
   "outputs": [],
   "source": [
    "shots['zone'] = zones"
   ]
  },
  {
   "cell_type": "code",
   "execution_count": 103,
   "id": "c0113389",
   "metadata": {},
   "outputs": [
    {
     "data": {
      "text/plain": [
       "<matplotlib.collections.PathCollection at 0x1ed1cc55d90>"
      ]
     },
     "execution_count": 103,
     "metadata": {},
     "output_type": "execute_result"
    },
    {
     "data": {
      "image/png": "[encoded data removed]",
      "text/plain": [
       "<Figure size 432x288 with 1 Axes>"
      ]
     },
     "metadata": {
      "needs_background": "light"
     },
     "output_type": "display_data"
    }
   ],
   "source": [
    "plt.scatter(shots['yCordAdjusted'], shots['xCordAdjusted'], c = shots['zone'])"
   ]
  },
  {
   "cell_type": "code",
   "execution_count": null,
   "id": "75f18e2e",
   "metadata": {},
   "outputs": [],
   "source": []
  }
 ],
 "metadata": {
  "kernelspec": {
   "display_name": "Python 3 (ipykernel)",
   "language": "python",
   "name": "python3"
  },
  "language_info": {
   "codemirror_mode": {
    "name": "ipython",
    "version": 3
   },
   "file_extension": ".py",
   "mimetype": "text/x-python",
   "name": "python",
   "nbconvert_exporter": "python",
   "pygments_lexer": "ipython3",
   "version": "3.9.7"
  }
 },
 "nbformat": 4,
 "nbformat_minor": 5
}
